{
 "cells": [
  {
   "cell_type": "code",
   "execution_count": 1,
   "metadata": {},
   "outputs": [],
   "source": [
    "import gymnasium as gym\n",
    "\n",
    "# Create the CartPole environment\n",
    "env = gym.make(\"CartPole-v1\", render_mode=\"human\")\n",
    "\n",
    "# Reset the environment to the initial state\n",
    "observation, info = env.reset()\n",
    "\n",
    "for _ in range(1000):\n",
    "    env.render()  # Render the environment\n",
    "    action = env.action_space.sample()  # Take a random action\n",
    "    observation, reward, done, truncated, info = env.step(action)\n",
    "\n",
    "    if done or truncated:\n",
    "        observation, info = env.reset()  # Reset the environment\n",
    "\n",
    "env.close()  # Close the environment when done"
   ]
  }
 ],
 "metadata": {
  "kernelspec": {
   "display_name": "relarc",
   "language": "python",
   "name": "python3"
  },
  "language_info": {
   "codemirror_mode": {
    "name": "ipython",
    "version": 3
   },
   "file_extension": ".py",
   "mimetype": "text/x-python",
   "name": "python",
   "nbconvert_exporter": "python",
   "pygments_lexer": "ipython3",
   "version": "3.12.3"
  }
 },
 "nbformat": 4,
 "nbformat_minor": 2
}
